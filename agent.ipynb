{
 "cells": [
  {
   "cell_type": "markdown",
   "metadata": {},
   "source": [
    "I have created this project to generate and test Python code based on natural language queries. It uses Microsoft's AutoGen framework to manage two agents: one for generating code and another for executing and validating it. The system leverages LM Studio to host Hugging Face models like Llama-2 locally, ensuring fast and secure processing.The main workflow includes 2 agents interacting with each other, generating(llama-3.2-1b-instruct) and debugging code. One agent uses Llm to generate code from natural language and other executes it and gives feedback (user can also give feedback) to the code writer generator and this conversation moves accordingly. The generated code is and all outputs, are saved in a text file for reference.\n",
    "To set up, the project requires installing the AutoGen framework, configuring LM Studio, and hosting the desired model locally. Users can run the system via a Jupyter notebook or the main script.\n",
    "Moreover, 2 use case is included with all the interactions in usecase directory."
   ]
  },
  {
   "cell_type": "code",
   "execution_count": 1,
   "metadata": {},
   "outputs": [],
   "source": [
    "import autogen\n",
    "from autogen import ConversableAgent\n",
    "import re\n",
    "from typing import Any, Dict, List, Union\n",
    "from pydantic import BaseModel"
   ]
  },
  {
   "cell_type": "code",
   "execution_count": 2,
   "metadata": {},
   "outputs": [],
   "source": [
    "# creating configuration for using llm for writing code\n",
    "config_list = autogen.config_list_from_json(env_or_file=\"config.json\")"
   ]
  },
  {
   "cell_type": "code",
   "execution_count": 3,
   "metadata": {},
   "outputs": [],
   "source": [
    "# Create an agent with code executor configuration\n",
    "code_executor_agent = ConversableAgent(\n",
    "    \"code_executor_agent\",\n",
    "    llm_config=False,  # Turn off LLM for this agent.\n",
    "    code_execution_config={\"use_docker\":False},\n",
    "    human_input_mode=\"ALWAYS\",  # Always take human input for this agent for safety\n",
    "    )"
   ]
  },
  {
   "cell_type": "code",
   "execution_count": 4,
   "metadata": {},
   "outputs": [],
   "source": [
    "# prompt for the code writer agent\n",
    "code_writer_system_message = \"\"\"You are a helpful AI assistant.Solve tasks using your coding and language skills.\n",
    "    In the following cases, suggest python code (in a python coding block) or shell script (in a sh coding block) for the user to execute.\n",
    "    1. When you need to collect info, use the code to output the info you need, for example, browse or search the web, download/read a file, print the content of a webpage or a file, get the current date/time, check the operating system. After sufficient info is printed and the task is ready to be solved based on your language skill, you can solve the task by yourself.\n",
    "    2. When you need to perform some task with code, use the code to perform the task and output the result. Finish the task smartly.\n",
    "    Solve the task step by step if you need to. If a plan is not provided, explain your plan first. Be clear which step uses code, and which step uses your language skill.\n",
    "    When using code, you must indicate the script type in the code block. The user cannot provide any other feedback or perform any other action beyond executing the code you suggest. The user can't modify your code. So do not suggest incomplete code which requires users to modify. Don't use a code block if it's not intended to be executed by the user.\n",
    "    If you want the user to save the code in a file before executing it, put # filename: <filename> inside the code block as the first line. Don't include multiple code blocks in one response. Do not ask users to copy and paste the result. Instead, use 'print' function for the output when relevant. Check the execution result returned by the user.\n",
    "    When user sends this \"exitcode: 0 (execution succeeded)\", reply only with \"TERMINATE\".\n",
    "    If the result indicates there is an error, fix the error and output the code again. Suggest the full code instead of partial code or code changes. If the error can't be fixed or if the task is not solved even after the code is executed successfully, analyze the problem, revisit your assumption, collect additional info you need, and think of a different approach to try.\n",
    "    When you find an answer, verify the answer carefully. Include verifiable evidence in your response if possible.\n",
    "    \"\"\"\n",
    "\n",
    "# Create an agent with LLM configuration for writing code\n",
    "code_writer_agent = ConversableAgent(\n",
    "     \"code_writer_agent\",\n",
    "     system_message=code_writer_system_message, # prompt for the code writer agent\n",
    "     llm_config={\"config_list\":config_list},\n",
    "     code_execution_config=False,  # Turn off code execution for this agent.\n",
    "     )"
   ]
  },
  {
   "cell_type": "code",
   "execution_count": 5,
   "metadata": {},
   "outputs": [],
   "source": [
    "class CodeBlock(BaseModel):\n",
    "    \"\"\"A class that represents a code block.\"\"\"\n",
    "\n",
    "    \"\"\"The code to execute.\"\"\"\n",
    "    code: str\n",
    "\n",
    "    \"\"\"The language of the code.\"\"\"\n",
    "    language: str"
   ]
  },
  {
   "cell_type": "code",
   "execution_count": 6,
   "metadata": {},
   "outputs": [],
   "source": [
    "CODE_BLOCK_PATTERN = r\"```[ \\t]*(\\w+)?[ \\t]*\\r?\\n(.*?)\\r?\\n[ \\t]*```\" # pattern to extract code blocks from a message"
   ]
  },
  {
   "cell_type": "code",
   "execution_count": 7,
   "metadata": {},
   "outputs": [],
   "source": [
    "class MarkdownCodeExtractor:\n",
    "    \"\"\"A class that extracts code blocks from a message using Markdown syntax.\"\"\"\n",
    "    \n",
    "    def content_str(self,content: Union[str, List[Dict[str, Any]], None]) -> str:\n",
    "        \"\"\"Converts `content` into a string format.\n",
    "        This function processes content that may be a string, a list of dictionary of string or None,\n",
    "        and converts it into a string. Text is directly appended to the result string.\n",
    "        If the content is None, an empty string is returned.\n",
    "        \n",
    "        Args:\n",
    "        - content (Union[str, List, None]): The content to be processed. Can be a string, a list of dictionaries\n",
    "        representing text or None.\n",
    "        \n",
    "        Returns:\n",
    "        str: A string representation of the input content.\n",
    "    \"\"\"\n",
    "        \n",
    "        if content is None:\n",
    "            return \"\" # return empty string if no content\n",
    "        \n",
    "        if isinstance(content, str):\n",
    "            return content # return content if it is a string\n",
    "        \n",
    "        if not isinstance(content, list):\n",
    "            raise TypeError(f\"content must be None, str, or list, but got {type(content)}\")\n",
    "        \n",
    "        rst = \"\" # string representing the content\n",
    "\n",
    "        for item in content:\n",
    "            if not isinstance(item, dict):\n",
    "                raise TypeError(\"Wrong content format: every element should be dict if the content is a list.\")\n",
    "            assert \"content\" in item, \"Wrong content format. Missing 'content' key in content's dict.\"\n",
    "            rst += item[\"content\"] # append the content to the result string\n",
    "        return rst\n",
    "        \n",
    "    def infer_lang(self,code: str) -> str:\n",
    "        \"\"\"infer the language for the code.\n",
    "        \"\"\"\n",
    "        if code.startswith(\"python \") or code.startswith(\"pip\") or code.startswith(\"python3 \"):\n",
    "            return \"sh\"\n",
    "        # check if code is a valid python code\n",
    "        try:\n",
    "            compile(code, \"test\", \"exec\")\n",
    "            return \"python\"\n",
    "        except SyntaxError:\n",
    "            # not a valid python code\n",
    "            return \"unknown\"\n",
    "\n",
    "    def extract_code_blocks(self, message: Union[str, List[Dict[str, Any]], None]) -> List[CodeBlock]:\n",
    "        \"\"\"Extract code blocks from a message. If no code blocks are found,\n",
    "        return an empty list.\n",
    "\n",
    "        Args:\n",
    "            message (str): The message to extract code blocks from.\n",
    "\n",
    "        Returns:\n",
    "            List[CodeBlock]: The extracted code blocks or an empty list.\n",
    "        \"\"\"\n",
    "\n",
    "        text = self.content_str(message) # convert the message to a string\n",
    "\n",
    "        match = re.findall(CODE_BLOCK_PATTERN, text, flags=re.DOTALL) # find all code blocks in the message\n",
    "        if not match:\n",
    "            return [] # return empty list if no code blocks are found\n",
    "        \n",
    "        code_blocks = []\n",
    "        for lang, code in match:\n",
    "            if lang == \"\":\n",
    "                lang = self.infer_lang(code) # infer the language of the code\n",
    "            if lang == \"unknown\":\n",
    "                lang = \"\"\n",
    "            code_blocks.append(CodeBlock(code=code, language=lang)) # append the code block to the list of code blocks\n",
    "        return code_blocks"
   ]
  },
  {
   "cell_type": "code",
   "execution_count": null,
   "metadata": {},
   "outputs": [],
   "source": [
    "message= input(\"Hello! How can I assist you with your code today?\") # input from user\n",
    "    \n",
    "# Initiate chat between the two agents.\n",
    "chat_result = code_executor_agent.initiate_chat(\n",
    "    code_writer_agent,\n",
    "    message=message,\n",
    "    )"
   ]
  },
  {
   "cell_type": "code",
   "execution_count": 9,
   "metadata": {},
   "outputs": [],
   "source": [
    "# Extract code blocks from the chat history\n",
    "code_extracter=MarkdownCodeExtractor()\n",
    "code=code_extracter.extract_code_blocks(chat_result.chat_history)"
   ]
  },
  {
   "cell_type": "code",
   "execution_count": 10,
   "metadata": {},
   "outputs": [],
   "source": [
    "# Write the code to a file.\n",
    "file = open(f\"{message}.txt\", \"w\")\n",
    "file.write(message+\"\\n\")\n",
    "for i in code:\n",
    "     file.write(i.code+\"\\n\")   \n",
    "file.close() "
   ]
  }
 ],
 "metadata": {
  "kernelspec": {
   "display_name": ".venv-figr",
   "language": "python",
   "name": "python3"
  },
  "language_info": {
   "codemirror_mode": {
    "name": "ipython",
    "version": 3
   },
   "file_extension": ".py",
   "mimetype": "text/x-python",
   "name": "python",
   "nbconvert_exporter": "python",
   "pygments_lexer": "ipython3",
   "version": "3.11.5"
  }
 },
 "nbformat": 4,
 "nbformat_minor": 2
}
